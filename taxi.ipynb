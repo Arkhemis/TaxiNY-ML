{
  "nbformat": 4,
  "nbformat_minor": 0,
  "metadata": {
    "colab": {
      "name": "taxi.ipynb",
      "provenance": [],
      "collapsed_sections": [],
      "authorship_tag": "ABX9TyOU2Ug1b6owqgD1V6kSx3p1"
    },
    "kernelspec": {
      "name": "python3",
      "display_name": "Python 3"
    },
    "language_info": {
      "name": "python"
    }
  },
  "cells": [
    {
      "cell_type": "markdown",
      "source": [
        "# Importing libraries"
      ],
      "metadata": {
        "id": "i4-nHuWrKRsc"
      }
    },
    {
      "cell_type": "code",
      "execution_count": 30,
      "metadata": {
        "id": "p-ihngGXhb9z",
        "colab": {
          "base_uri": "https://localhost:8080/"
        },
        "outputId": "3d0e17ca-7849-485b-d40c-d7703742bc0a"
      },
      "outputs": [
        {
          "output_type": "stream",
          "name": "stdout",
          "text": [
            "Looking in indexes: https://pypi.org/simple, https://us-python.pkg.dev/colab-wheels/public/simple/\n",
            "Requirement already satisfied: fast_ml in /usr/local/lib/python3.7/dist-packages (3.68)\n"
          ]
        }
      ],
      "source": [
        "!pip install fast_ml \n",
        "#Data preparation\n",
        "from fast_ml.feature_selection import get_constant_features\n",
        "import pandas as pd\n",
        "import seaborn as sns\n",
        "import matplotlib.pyplot as plt\n",
        "import warnings\n",
        "import numpy as np\n",
        "warnings.filterwarnings(\"ignore\")\n",
        "\n",
        "#Data analysis\n",
        "from sklearn.model_selection import train_test_split\n",
        "from sklearn.preprocessing import StandardScaler\n",
        "from sklearn import preprocessing\n",
        "from sklearn.linear_model import LinearRegression, Ridge, RidgeCV\n",
        "from sklearn.model_selection import RepeatedKFold\n",
        "from sklearn.metrics import mean_squared_error, r2_score\n",
        "from sklearn import ensemble\n",
        "from scipy.stats import pearsonr\n",
        "from statsmodels.stats.outliers_influence import variance_inflation_factor"
      ]
    },
    {
      "cell_type": "markdown",
      "source": [
        "# Data preparation\n",
        "Let's first load and inspect the dataset."
      ],
      "metadata": {
        "id": "66qcO4cL4hVG"
      }
    },
    {
      "cell_type": "code",
      "source": [
        "df = pd.read_csv(\"https://raw.githubusercontent.com/stephenleo/nyc-taxi/master/data.csv\")\n",
        "df.head()"
      ],
      "metadata": {
        "id": "hYd-DCUVhioS",
        "colab": {
          "base_uri": "https://localhost:8080/",
          "height": 374
        },
        "outputId": "f892cc83-9df7-4468-80f0-1a19925ecf53"
      },
      "execution_count": 31,
      "outputs": [
        {
          "output_type": "execute_result",
          "data": {
            "text/plain": [
              "   Unnamed: 0  vendor_id      pickup_datetime     dropoff_datetime  \\\n",
              "0           0          2  2015-07-18 11:25:58  2015-07-18 11:43:47   \n",
              "1           1          1  2015-03-15 12:50:01  2015-03-15 13:23:35   \n",
              "2           2          2  2015-04-30 12:25:44  2015-04-30 13:03:51   \n",
              "3           3          2  2015-05-28 08:47:56  2015-05-28 09:26:08   \n",
              "4           4          1  2015-06-20 19:36:17  2015-06-20 20:10:49   \n",
              "\n",
              "   passenger_count  trip_distance  pickup_longitude  pickup_latitude  \\\n",
              "0                1           7.21        -73.862762        40.769028   \n",
              "1                1          10.80        -73.870926        40.773727   \n",
              "2                1           4.28        -73.978180        40.762341   \n",
              "3                1          18.47        -73.776711        40.645302   \n",
              "4                1          15.50        -73.777054        40.644947   \n",
              "\n",
              "   rate_code store_and_fwd_flag  dropoff_longitude  dropoff_latitude  \\\n",
              "0        1.0                  N         -73.949203         40.722584   \n",
              "1        NaN                  N         -73.988228         40.765694   \n",
              "2        NaN                  N         -74.008911         40.710789   \n",
              "3        NaN                  N         -73.843422         40.852852   \n",
              "4        NaN                  Y         -73.946800         40.725021   \n",
              "\n",
              "   payment_type  fare_amount  extra  mta_tax  tip_amount  tolls_amount  \\\n",
              "0             1         22.5    0.0      0.5        4.66          0.00   \n",
              "1             1         34.5    0.0      0.5        8.10          5.33   \n",
              "2             1         24.5    0.0      0.5        2.50          0.00   \n",
              "3             1         51.0    0.0      0.5        7.00          5.54   \n",
              "4             1         44.5    0.0      0.5        9.06          0.00   \n",
              "\n",
              "   imp_surcharge  total_amount  \n",
              "0            0.3         27.96  \n",
              "1            0.3         48.73  \n",
              "2            0.3         27.80  \n",
              "3            0.3         64.34  \n",
              "4            0.3         54.36  "
            ],
            "text/html": [
              "\n",
              "  <div id=\"df-eef97749-4f1a-4360-97d7-7871b6f3bef8\">\n",
              "    <div class=\"colab-df-container\">\n",
              "      <div>\n",
              "<style scoped>\n",
              "    .dataframe tbody tr th:only-of-type {\n",
              "        vertical-align: middle;\n",
              "    }\n",
              "\n",
              "    .dataframe tbody tr th {\n",
              "        vertical-align: top;\n",
              "    }\n",
              "\n",
              "    .dataframe thead th {\n",
              "        text-align: right;\n",
              "    }\n",
              "</style>\n",
              "<table border=\"1\" class=\"dataframe\">\n",
              "  <thead>\n",
              "    <tr style=\"text-align: right;\">\n",
              "      <th></th>\n",
              "      <th>Unnamed: 0</th>\n",
              "      <th>vendor_id</th>\n",
              "      <th>pickup_datetime</th>\n",
              "      <th>dropoff_datetime</th>\n",
              "      <th>passenger_count</th>\n",
              "      <th>trip_distance</th>\n",
              "      <th>pickup_longitude</th>\n",
              "      <th>pickup_latitude</th>\n",
              "      <th>rate_code</th>\n",
              "      <th>store_and_fwd_flag</th>\n",
              "      <th>dropoff_longitude</th>\n",
              "      <th>dropoff_latitude</th>\n",
              "      <th>payment_type</th>\n",
              "      <th>fare_amount</th>\n",
              "      <th>extra</th>\n",
              "      <th>mta_tax</th>\n",
              "      <th>tip_amount</th>\n",
              "      <th>tolls_amount</th>\n",
              "      <th>imp_surcharge</th>\n",
              "      <th>total_amount</th>\n",
              "    </tr>\n",
              "  </thead>\n",
              "  <tbody>\n",
              "    <tr>\n",
              "      <th>0</th>\n",
              "      <td>0</td>\n",
              "      <td>2</td>\n",
              "      <td>2015-07-18 11:25:58</td>\n",
              "      <td>2015-07-18 11:43:47</td>\n",
              "      <td>1</td>\n",
              "      <td>7.21</td>\n",
              "      <td>-73.862762</td>\n",
              "      <td>40.769028</td>\n",
              "      <td>1.0</td>\n",
              "      <td>N</td>\n",
              "      <td>-73.949203</td>\n",
              "      <td>40.722584</td>\n",
              "      <td>1</td>\n",
              "      <td>22.5</td>\n",
              "      <td>0.0</td>\n",
              "      <td>0.5</td>\n",
              "      <td>4.66</td>\n",
              "      <td>0.00</td>\n",
              "      <td>0.3</td>\n",
              "      <td>27.96</td>\n",
              "    </tr>\n",
              "    <tr>\n",
              "      <th>1</th>\n",
              "      <td>1</td>\n",
              "      <td>1</td>\n",
              "      <td>2015-03-15 12:50:01</td>\n",
              "      <td>2015-03-15 13:23:35</td>\n",
              "      <td>1</td>\n",
              "      <td>10.80</td>\n",
              "      <td>-73.870926</td>\n",
              "      <td>40.773727</td>\n",
              "      <td>NaN</td>\n",
              "      <td>N</td>\n",
              "      <td>-73.988228</td>\n",
              "      <td>40.765694</td>\n",
              "      <td>1</td>\n",
              "      <td>34.5</td>\n",
              "      <td>0.0</td>\n",
              "      <td>0.5</td>\n",
              "      <td>8.10</td>\n",
              "      <td>5.33</td>\n",
              "      <td>0.3</td>\n",
              "      <td>48.73</td>\n",
              "    </tr>\n",
              "    <tr>\n",
              "      <th>2</th>\n",
              "      <td>2</td>\n",
              "      <td>2</td>\n",
              "      <td>2015-04-30 12:25:44</td>\n",
              "      <td>2015-04-30 13:03:51</td>\n",
              "      <td>1</td>\n",
              "      <td>4.28</td>\n",
              "      <td>-73.978180</td>\n",
              "      <td>40.762341</td>\n",
              "      <td>NaN</td>\n",
              "      <td>N</td>\n",
              "      <td>-74.008911</td>\n",
              "      <td>40.710789</td>\n",
              "      <td>1</td>\n",
              "      <td>24.5</td>\n",
              "      <td>0.0</td>\n",
              "      <td>0.5</td>\n",
              "      <td>2.50</td>\n",
              "      <td>0.00</td>\n",
              "      <td>0.3</td>\n",
              "      <td>27.80</td>\n",
              "    </tr>\n",
              "    <tr>\n",
              "      <th>3</th>\n",
              "      <td>3</td>\n",
              "      <td>2</td>\n",
              "      <td>2015-05-28 08:47:56</td>\n",
              "      <td>2015-05-28 09:26:08</td>\n",
              "      <td>1</td>\n",
              "      <td>18.47</td>\n",
              "      <td>-73.776711</td>\n",
              "      <td>40.645302</td>\n",
              "      <td>NaN</td>\n",
              "      <td>N</td>\n",
              "      <td>-73.843422</td>\n",
              "      <td>40.852852</td>\n",
              "      <td>1</td>\n",
              "      <td>51.0</td>\n",
              "      <td>0.0</td>\n",
              "      <td>0.5</td>\n",
              "      <td>7.00</td>\n",
              "      <td>5.54</td>\n",
              "      <td>0.3</td>\n",
              "      <td>64.34</td>\n",
              "    </tr>\n",
              "    <tr>\n",
              "      <th>4</th>\n",
              "      <td>4</td>\n",
              "      <td>1</td>\n",
              "      <td>2015-06-20 19:36:17</td>\n",
              "      <td>2015-06-20 20:10:49</td>\n",
              "      <td>1</td>\n",
              "      <td>15.50</td>\n",
              "      <td>-73.777054</td>\n",
              "      <td>40.644947</td>\n",
              "      <td>NaN</td>\n",
              "      <td>Y</td>\n",
              "      <td>-73.946800</td>\n",
              "      <td>40.725021</td>\n",
              "      <td>1</td>\n",
              "      <td>44.5</td>\n",
              "      <td>0.0</td>\n",
              "      <td>0.5</td>\n",
              "      <td>9.06</td>\n",
              "      <td>0.00</td>\n",
              "      <td>0.3</td>\n",
              "      <td>54.36</td>\n",
              "    </tr>\n",
              "  </tbody>\n",
              "</table>\n",
              "</div>\n",
              "      <button class=\"colab-df-convert\" onclick=\"convertToInteractive('df-eef97749-4f1a-4360-97d7-7871b6f3bef8')\"\n",
              "              title=\"Convert this dataframe to an interactive table.\"\n",
              "              style=\"display:none;\">\n",
              "        \n",
              "  <svg xmlns=\"http://www.w3.org/2000/svg\" height=\"24px\"viewBox=\"0 0 24 24\"\n",
              "       width=\"24px\">\n",
              "    <path d=\"M0 0h24v24H0V0z\" fill=\"none\"/>\n",
              "    <path d=\"M18.56 5.44l.94 2.06.94-2.06 2.06-.94-2.06-.94-.94-2.06-.94 2.06-2.06.94zm-11 1L8.5 8.5l.94-2.06 2.06-.94-2.06-.94L8.5 2.5l-.94 2.06-2.06.94zm10 10l.94 2.06.94-2.06 2.06-.94-2.06-.94-.94-2.06-.94 2.06-2.06.94z\"/><path d=\"M17.41 7.96l-1.37-1.37c-.4-.4-.92-.59-1.43-.59-.52 0-1.04.2-1.43.59L10.3 9.45l-7.72 7.72c-.78.78-.78 2.05 0 2.83L4 21.41c.39.39.9.59 1.41.59.51 0 1.02-.2 1.41-.59l7.78-7.78 2.81-2.81c.8-.78.8-2.07 0-2.86zM5.41 20L4 18.59l7.72-7.72 1.47 1.35L5.41 20z\"/>\n",
              "  </svg>\n",
              "      </button>\n",
              "      \n",
              "  <style>\n",
              "    .colab-df-container {\n",
              "      display:flex;\n",
              "      flex-wrap:wrap;\n",
              "      gap: 12px;\n",
              "    }\n",
              "\n",
              "    .colab-df-convert {\n",
              "      background-color: #E8F0FE;\n",
              "      border: none;\n",
              "      border-radius: 50%;\n",
              "      cursor: pointer;\n",
              "      display: none;\n",
              "      fill: #1967D2;\n",
              "      height: 32px;\n",
              "      padding: 0 0 0 0;\n",
              "      width: 32px;\n",
              "    }\n",
              "\n",
              "    .colab-df-convert:hover {\n",
              "      background-color: #E2EBFA;\n",
              "      box-shadow: 0px 1px 2px rgba(60, 64, 67, 0.3), 0px 1px 3px 1px rgba(60, 64, 67, 0.15);\n",
              "      fill: #174EA6;\n",
              "    }\n",
              "\n",
              "    [theme=dark] .colab-df-convert {\n",
              "      background-color: #3B4455;\n",
              "      fill: #D2E3FC;\n",
              "    }\n",
              "\n",
              "    [theme=dark] .colab-df-convert:hover {\n",
              "      background-color: #434B5C;\n",
              "      box-shadow: 0px 1px 3px 1px rgba(0, 0, 0, 0.15);\n",
              "      filter: drop-shadow(0px 1px 2px rgba(0, 0, 0, 0.3));\n",
              "      fill: #FFFFFF;\n",
              "    }\n",
              "  </style>\n",
              "\n",
              "      <script>\n",
              "        const buttonEl =\n",
              "          document.querySelector('#df-eef97749-4f1a-4360-97d7-7871b6f3bef8 button.colab-df-convert');\n",
              "        buttonEl.style.display =\n",
              "          google.colab.kernel.accessAllowed ? 'block' : 'none';\n",
              "\n",
              "        async function convertToInteractive(key) {\n",
              "          const element = document.querySelector('#df-eef97749-4f1a-4360-97d7-7871b6f3bef8');\n",
              "          const dataTable =\n",
              "            await google.colab.kernel.invokeFunction('convertToInteractive',\n",
              "                                                     [key], {});\n",
              "          if (!dataTable) return;\n",
              "\n",
              "          const docLinkHtml = 'Like what you see? Visit the ' +\n",
              "            '<a target=\"_blank\" href=https://colab.research.google.com/notebooks/data_table.ipynb>data table notebook</a>'\n",
              "            + ' to learn more about interactive tables.';\n",
              "          element.innerHTML = '';\n",
              "          dataTable['output_type'] = 'display_data';\n",
              "          await google.colab.output.renderOutput(dataTable, element);\n",
              "          const docLink = document.createElement('div');\n",
              "          docLink.innerHTML = docLinkHtml;\n",
              "          element.appendChild(docLink);\n",
              "        }\n",
              "      </script>\n",
              "    </div>\n",
              "  </div>\n",
              "  "
            ]
          },
          "metadata": {},
          "execution_count": 31
        }
      ]
    },
    {
      "cell_type": "code",
      "source": [
        "df = df.drop([\"Unnamed: 0\"], axis=1) #Dropping this ID column\n",
        "print(df.isnull().sum()) #There is some null values in latitude longitudes variables\n",
        "df[\"trip_distance\"] = df[\"trip_distance\"]/0.621371 #Convert distance in km\n",
        "df.describe() #Negative amounts for price columns ??? "
      ],
      "metadata": {
        "colab": {
          "base_uri": "https://localhost:8080/",
          "height": 711
        },
        "id": "Wj3JAk924qDn",
        "outputId": "f5ced648-ab68-475a-f7fd-5c9b90e685de"
      },
      "execution_count": 32,
      "outputs": [
        {
          "output_type": "stream",
          "name": "stdout",
          "text": [
            "vendor_id                 0\n",
            "pickup_datetime           0\n",
            "dropoff_datetime          0\n",
            "passenger_count           0\n",
            "trip_distance             0\n",
            "pickup_longitude      48472\n",
            "pickup_latitude       48472\n",
            "rate_code             51162\n",
            "store_and_fwd_flag        0\n",
            "dropoff_longitude     48472\n",
            "dropoff_latitude      48472\n",
            "payment_type              0\n",
            "fare_amount               0\n",
            "extra                     0\n",
            "mta_tax                   0\n",
            "tip_amount                0\n",
            "tolls_amount              0\n",
            "imp_surcharge             0\n",
            "total_amount              0\n",
            "dtype: int64\n"
          ]
        },
        {
          "output_type": "execute_result",
          "data": {
            "text/plain": [
              "           vendor_id  passenger_count  trip_distance  pickup_longitude  \\\n",
              "count  200000.000000    200000.000000   2.000000e+05     151528.000000   \n",
              "mean        1.539435         1.688835   1.338356e+02        -72.325054   \n",
              "std         0.498464         1.326959   5.277876e+04         10.820857   \n",
              "min         1.000000         0.000000   0.000000e+00       -121.933220   \n",
              "25%         1.000000         1.000000   9.977936e+00        -73.990044   \n",
              "50%         2.000000         1.000000   1.384036e+01        -73.974060   \n",
              "75%         2.000000         2.000000   1.747748e+01        -73.873062   \n",
              "max         3.000000         9.000000   2.360024e+07          0.000000   \n",
              "\n",
              "       pickup_latitude      rate_code  dropoff_longitude  dropoff_latitude  \\\n",
              "count    151528.000000  148838.000000      151528.000000     151528.000000   \n",
              "mean         39.853910       1.207266         -72.181401         39.770948   \n",
              "std           5.962324       2.492992          11.294874          6.223090   \n",
              "min           0.000000       1.000000        -121.933250          0.000000   \n",
              "25%          40.727531       1.000000         -73.986359         40.706059   \n",
              "50%          40.755924       1.000000         -73.960800         40.750740   \n",
              "75%          40.770061       1.000000         -73.905798         40.773235   \n",
              "max          42.364651      99.000000           0.000000         41.528519   \n",
              "\n",
              "        payment_type    fare_amount          extra        mta_tax  \\\n",
              "count  200000.000000  200000.000000  200000.000000  200000.000000   \n",
              "mean        1.378180      30.778768       0.320146       0.478616   \n",
              "std         0.543168      27.002626       1.371534       0.191338   \n",
              "min         1.000000    -235.000000      -4.500000      -1.000000   \n",
              "25%         1.000000      24.000000       0.000000       0.500000   \n",
              "50%         1.000000      28.500000       0.500000       0.500000   \n",
              "75%         2.000000      35.500000       0.500000       0.500000   \n",
              "max         4.000000    8452.000000     588.910000      70.310000   \n",
              "\n",
              "          tip_amount   tolls_amount  imp_surcharge   total_amount  \n",
              "count  200000.000000  200000.000000  200000.000000  200000.000000  \n",
              "mean        4.372641       1.880130       0.296598      38.129245  \n",
              "std         5.284615       3.815003       0.039920      29.874980  \n",
              "min       -40.710000     -11.750000      -0.300000    -244.260000  \n",
              "25%         0.000000       0.000000       0.300000      28.800000  \n",
              "50%         4.750000       0.000000       0.300000      35.750000  \n",
              "75%         7.200000       5.540000       0.300000      45.800000  \n",
              "max       910.050000     661.580000       0.300000    8452.800000  "
            ],
            "text/html": [
              "\n",
              "  <div id=\"df-523af79f-2c00-443e-9b7c-c4d7651b63d0\">\n",
              "    <div class=\"colab-df-container\">\n",
              "      <div>\n",
              "<style scoped>\n",
              "    .dataframe tbody tr th:only-of-type {\n",
              "        vertical-align: middle;\n",
              "    }\n",
              "\n",
              "    .dataframe tbody tr th {\n",
              "        vertical-align: top;\n",
              "    }\n",
              "\n",
              "    .dataframe thead th {\n",
              "        text-align: right;\n",
              "    }\n",
              "</style>\n",
              "<table border=\"1\" class=\"dataframe\">\n",
              "  <thead>\n",
              "    <tr style=\"text-align: right;\">\n",
              "      <th></th>\n",
              "      <th>vendor_id</th>\n",
              "      <th>passenger_count</th>\n",
              "      <th>trip_distance</th>\n",
              "      <th>pickup_longitude</th>\n",
              "      <th>pickup_latitude</th>\n",
              "      <th>rate_code</th>\n",
              "      <th>dropoff_longitude</th>\n",
              "      <th>dropoff_latitude</th>\n",
              "      <th>payment_type</th>\n",
              "      <th>fare_amount</th>\n",
              "      <th>extra</th>\n",
              "      <th>mta_tax</th>\n",
              "      <th>tip_amount</th>\n",
              "      <th>tolls_amount</th>\n",
              "      <th>imp_surcharge</th>\n",
              "      <th>total_amount</th>\n",
              "    </tr>\n",
              "  </thead>\n",
              "  <tbody>\n",
              "    <tr>\n",
              "      <th>count</th>\n",
              "      <td>200000.000000</td>\n",
              "      <td>200000.000000</td>\n",
              "      <td>2.000000e+05</td>\n",
              "      <td>151528.000000</td>\n",
              "      <td>151528.000000</td>\n",
              "      <td>148838.000000</td>\n",
              "      <td>151528.000000</td>\n",
              "      <td>151528.000000</td>\n",
              "      <td>200000.000000</td>\n",
              "      <td>200000.000000</td>\n",
              "      <td>200000.000000</td>\n",
              "      <td>200000.000000</td>\n",
              "      <td>200000.000000</td>\n",
              "      <td>200000.000000</td>\n",
              "      <td>200000.000000</td>\n",
              "      <td>200000.000000</td>\n",
              "    </tr>\n",
              "    <tr>\n",
              "      <th>mean</th>\n",
              "      <td>1.539435</td>\n",
              "      <td>1.688835</td>\n",
              "      <td>1.338356e+02</td>\n",
              "      <td>-72.325054</td>\n",
              "      <td>39.853910</td>\n",
              "      <td>1.207266</td>\n",
              "      <td>-72.181401</td>\n",
              "      <td>39.770948</td>\n",
              "      <td>1.378180</td>\n",
              "      <td>30.778768</td>\n",
              "      <td>0.320146</td>\n",
              "      <td>0.478616</td>\n",
              "      <td>4.372641</td>\n",
              "      <td>1.880130</td>\n",
              "      <td>0.296598</td>\n",
              "      <td>38.129245</td>\n",
              "    </tr>\n",
              "    <tr>\n",
              "      <th>std</th>\n",
              "      <td>0.498464</td>\n",
              "      <td>1.326959</td>\n",
              "      <td>5.277876e+04</td>\n",
              "      <td>10.820857</td>\n",
              "      <td>5.962324</td>\n",
              "      <td>2.492992</td>\n",
              "      <td>11.294874</td>\n",
              "      <td>6.223090</td>\n",
              "      <td>0.543168</td>\n",
              "      <td>27.002626</td>\n",
              "      <td>1.371534</td>\n",
              "      <td>0.191338</td>\n",
              "      <td>5.284615</td>\n",
              "      <td>3.815003</td>\n",
              "      <td>0.039920</td>\n",
              "      <td>29.874980</td>\n",
              "    </tr>\n",
              "    <tr>\n",
              "      <th>min</th>\n",
              "      <td>1.000000</td>\n",
              "      <td>0.000000</td>\n",
              "      <td>0.000000e+00</td>\n",
              "      <td>-121.933220</td>\n",
              "      <td>0.000000</td>\n",
              "      <td>1.000000</td>\n",
              "      <td>-121.933250</td>\n",
              "      <td>0.000000</td>\n",
              "      <td>1.000000</td>\n",
              "      <td>-235.000000</td>\n",
              "      <td>-4.500000</td>\n",
              "      <td>-1.000000</td>\n",
              "      <td>-40.710000</td>\n",
              "      <td>-11.750000</td>\n",
              "      <td>-0.300000</td>\n",
              "      <td>-244.260000</td>\n",
              "    </tr>\n",
              "    <tr>\n",
              "      <th>25%</th>\n",
              "      <td>1.000000</td>\n",
              "      <td>1.000000</td>\n",
              "      <td>9.977936e+00</td>\n",
              "      <td>-73.990044</td>\n",
              "      <td>40.727531</td>\n",
              "      <td>1.000000</td>\n",
              "      <td>-73.986359</td>\n",
              "      <td>40.706059</td>\n",
              "      <td>1.000000</td>\n",
              "      <td>24.000000</td>\n",
              "      <td>0.000000</td>\n",
              "      <td>0.500000</td>\n",
              "      <td>0.000000</td>\n",
              "      <td>0.000000</td>\n",
              "      <td>0.300000</td>\n",
              "      <td>28.800000</td>\n",
              "    </tr>\n",
              "    <tr>\n",
              "      <th>50%</th>\n",
              "      <td>2.000000</td>\n",
              "      <td>1.000000</td>\n",
              "      <td>1.384036e+01</td>\n",
              "      <td>-73.974060</td>\n",
              "      <td>40.755924</td>\n",
              "      <td>1.000000</td>\n",
              "      <td>-73.960800</td>\n",
              "      <td>40.750740</td>\n",
              "      <td>1.000000</td>\n",
              "      <td>28.500000</td>\n",
              "      <td>0.500000</td>\n",
              "      <td>0.500000</td>\n",
              "      <td>4.750000</td>\n",
              "      <td>0.000000</td>\n",
              "      <td>0.300000</td>\n",
              "      <td>35.750000</td>\n",
              "    </tr>\n",
              "    <tr>\n",
              "      <th>75%</th>\n",
              "      <td>2.000000</td>\n",
              "      <td>2.000000</td>\n",
              "      <td>1.747748e+01</td>\n",
              "      <td>-73.873062</td>\n",
              "      <td>40.770061</td>\n",
              "      <td>1.000000</td>\n",
              "      <td>-73.905798</td>\n",
              "      <td>40.773235</td>\n",
              "      <td>2.000000</td>\n",
              "      <td>35.500000</td>\n",
              "      <td>0.500000</td>\n",
              "      <td>0.500000</td>\n",
              "      <td>7.200000</td>\n",
              "      <td>5.540000</td>\n",
              "      <td>0.300000</td>\n",
              "      <td>45.800000</td>\n",
              "    </tr>\n",
              "    <tr>\n",
              "      <th>max</th>\n",
              "      <td>3.000000</td>\n",
              "      <td>9.000000</td>\n",
              "      <td>2.360024e+07</td>\n",
              "      <td>0.000000</td>\n",
              "      <td>42.364651</td>\n",
              "      <td>99.000000</td>\n",
              "      <td>0.000000</td>\n",
              "      <td>41.528519</td>\n",
              "      <td>4.000000</td>\n",
              "      <td>8452.000000</td>\n",
              "      <td>588.910000</td>\n",
              "      <td>70.310000</td>\n",
              "      <td>910.050000</td>\n",
              "      <td>661.580000</td>\n",
              "      <td>0.300000</td>\n",
              "      <td>8452.800000</td>\n",
              "    </tr>\n",
              "  </tbody>\n",
              "</table>\n",
              "</div>\n",
              "      <button class=\"colab-df-convert\" onclick=\"convertToInteractive('df-523af79f-2c00-443e-9b7c-c4d7651b63d0')\"\n",
              "              title=\"Convert this dataframe to an interactive table.\"\n",
              "              style=\"display:none;\">\n",
              "        \n",
              "  <svg xmlns=\"http://www.w3.org/2000/svg\" height=\"24px\"viewBox=\"0 0 24 24\"\n",
              "       width=\"24px\">\n",
              "    <path d=\"M0 0h24v24H0V0z\" fill=\"none\"/>\n",
              "    <path d=\"M18.56 5.44l.94 2.06.94-2.06 2.06-.94-2.06-.94-.94-2.06-.94 2.06-2.06.94zm-11 1L8.5 8.5l.94-2.06 2.06-.94-2.06-.94L8.5 2.5l-.94 2.06-2.06.94zm10 10l.94 2.06.94-2.06 2.06-.94-2.06-.94-.94-2.06-.94 2.06-2.06.94z\"/><path d=\"M17.41 7.96l-1.37-1.37c-.4-.4-.92-.59-1.43-.59-.52 0-1.04.2-1.43.59L10.3 9.45l-7.72 7.72c-.78.78-.78 2.05 0 2.83L4 21.41c.39.39.9.59 1.41.59.51 0 1.02-.2 1.41-.59l7.78-7.78 2.81-2.81c.8-.78.8-2.07 0-2.86zM5.41 20L4 18.59l7.72-7.72 1.47 1.35L5.41 20z\"/>\n",
              "  </svg>\n",
              "      </button>\n",
              "      \n",
              "  <style>\n",
              "    .colab-df-container {\n",
              "      display:flex;\n",
              "      flex-wrap:wrap;\n",
              "      gap: 12px;\n",
              "    }\n",
              "\n",
              "    .colab-df-convert {\n",
              "      background-color: #E8F0FE;\n",
              "      border: none;\n",
              "      border-radius: 50%;\n",
              "      cursor: pointer;\n",
              "      display: none;\n",
              "      fill: #1967D2;\n",
              "      height: 32px;\n",
              "      padding: 0 0 0 0;\n",
              "      width: 32px;\n",
              "    }\n",
              "\n",
              "    .colab-df-convert:hover {\n",
              "      background-color: #E2EBFA;\n",
              "      box-shadow: 0px 1px 2px rgba(60, 64, 67, 0.3), 0px 1px 3px 1px rgba(60, 64, 67, 0.15);\n",
              "      fill: #174EA6;\n",
              "    }\n",
              "\n",
              "    [theme=dark] .colab-df-convert {\n",
              "      background-color: #3B4455;\n",
              "      fill: #D2E3FC;\n",
              "    }\n",
              "\n",
              "    [theme=dark] .colab-df-convert:hover {\n",
              "      background-color: #434B5C;\n",
              "      box-shadow: 0px 1px 3px 1px rgba(0, 0, 0, 0.15);\n",
              "      filter: drop-shadow(0px 1px 2px rgba(0, 0, 0, 0.3));\n",
              "      fill: #FFFFFF;\n",
              "    }\n",
              "  </style>\n",
              "\n",
              "      <script>\n",
              "        const buttonEl =\n",
              "          document.querySelector('#df-523af79f-2c00-443e-9b7c-c4d7651b63d0 button.colab-df-convert');\n",
              "        buttonEl.style.display =\n",
              "          google.colab.kernel.accessAllowed ? 'block' : 'none';\n",
              "\n",
              "        async function convertToInteractive(key) {\n",
              "          const element = document.querySelector('#df-523af79f-2c00-443e-9b7c-c4d7651b63d0');\n",
              "          const dataTable =\n",
              "            await google.colab.kernel.invokeFunction('convertToInteractive',\n",
              "                                                     [key], {});\n",
              "          if (!dataTable) return;\n",
              "\n",
              "          const docLinkHtml = 'Like what you see? Visit the ' +\n",
              "            '<a target=\"_blank\" href=https://colab.research.google.com/notebooks/data_table.ipynb>data table notebook</a>'\n",
              "            + ' to learn more about interactive tables.';\n",
              "          element.innerHTML = '';\n",
              "          dataTable['output_type'] = 'display_data';\n",
              "          await google.colab.output.renderOutput(dataTable, element);\n",
              "          const docLink = document.createElement('div');\n",
              "          docLink.innerHTML = docLinkHtml;\n",
              "          element.appendChild(docLink);\n",
              "        }\n",
              "      </script>\n",
              "    </div>\n",
              "  </div>\n",
              "  "
            ]
          },
          "metadata": {},
          "execution_count": 32
        }
      ]
    },
    {
      "cell_type": "markdown",
      "source": [
        "We have some negatives values for the prices variables (fare_amount, tip_amount...). Let's get rid of them and check for outliers."
      ],
      "metadata": {
        "id": "mgCE1cCT5Fru"
      }
    },
    {
      "cell_type": "code",
      "source": [
        "df = df.loc[(df[['extra', \"fare_amount\", \"total_amount\", \"tip_amount\"]] > 0).all(axis=1)] #Remove negative values for price\n",
        "for column in df[[\"trip_distance\",\"fare_amount\", \"extra\", \"tolls_amount\", \"total_amount\"]]: #Checking outliers\n",
        "  plt.figure()\n",
        "  sns.boxplot(df[column])"
      ],
      "metadata": {
        "colab": {
          "base_uri": "https://localhost:8080/",
          "height": 1000
        },
        "id": "9J0y89_6ltu2",
        "outputId": "fadf0d63-e07c-496a-d64d-5cf17a96e69a"
      },
      "execution_count": 33,
      "outputs": [
        {
          "output_type": "display_data",
          "data": {
            "text/plain": [
              "<Figure size 432x288 with 1 Axes>"
            ],
            "image/png": "[encoded data removed]"
          },
          "metadata": {
            "needs_background": "light"
          }
        },
        {
          "output_type": "display_data",
          "data": {
            "text/plain": [
              "<Figure size 432x288 with 1 Axes>"
            ],
            "image/png": "[encoded data removed]"
          },
          "metadata": {
            "needs_background": "light"
          }
        },
        {
          "output_type": "display_data",
          "data": {
            "text/plain": [
              "<Figure size 432x288 with 1 Axes>"
            ],
            "image/png": "[encoded data removed]"
          },
          "metadata": {
            "needs_background": "light"
          }
        },
        {
          "output_type": "display_data",
          "data": {
            "text/plain": [
              "<Figure size 432x288 with 1 Axes>"
            ],
            "image/png": "[encoded data removed]"
          },
          "metadata": {
            "needs_background": "light"
          }
        },
        {
          "output_type": "display_data",
          "data": {
            "text/plain": [
              "<Figure size 432x288 with 1 Axes>"
            ],
            "image/png": "[encoded data removed]"
          },
          "metadata": {
            "needs_background": "light"
          }
        }
      ]
    },
    {
      "cell_type": "markdown",
      "source": [
        "It seems we have some outliers indeed! Let's use the interquatile method to remove them :"
      ],
      "metadata": {
        "id": "s7ROENBA5lXL"
      }
    },
    {
      "cell_type": "code",
      "source": [
        "Q1 = df.quantile(0.25)\n",
        "Q3 = df.quantile(0.75)\n",
        "IQR = Q3 - Q1\n",
        "df = df[~((df < (Q1 - 1.5 * IQR)) |(df > (Q3 + 1.5 * IQR))).any(axis=1)]\n",
        "df = df[df[\"fare_amount\"]>15]\n",
        "for column in df[[\"trip_distance\",\"fare_amount\", \"extra\", \"tolls_amount\", \"total_amount\"]]:\n",
        "  plt.figure()\n",
        "  sns.boxplot(df[column])"
      ],
      "metadata": {
        "colab": {
          "base_uri": "https://localhost:8080/",
          "height": 1000
        },
        "id": "oHTGSHWC35QT",
        "outputId": "aac5f60e-31ae-4bdc-9edc-4b9c6c3e4bfa"
      },
      "execution_count": 34,
      "outputs": [
        {
          "output_type": "display_data",
          "data": {
            "text/plain": [
              "<Figure size 432x288 with 1 Axes>"
            ],
            "image/png": "[encoded data removed]"
          },
          "metadata": {
            "needs_background": "light"
          }
        },
        {
          "output_type": "display_data",
          "data": {
            "text/plain": [
              "<Figure size 432x288 with 1 Axes>"
            ],
            "image/png": "[encoded data removed]"
          },
          "metadata": {
            "needs_background": "light"
          }
        },
        {
          "output_type": "display_data",
          "data": {
            "text/plain": [
              "<Figure size 432x288 with 1 Axes>"
            ],
            "image/png": "[encoded data removed]"
          },
          "metadata": {
            "needs_background": "light"
          }
        },
        {
          "output_type": "display_data",
          "data": {
            "text/plain": [
              "<Figure size 432x288 with 1 Axes>"
            ],
            "image/png": "[encoded data removed]"
          },
          "metadata": {
            "needs_background": "light"
          }
        },
        {
          "output_type": "display_data",
          "data": {
            "text/plain": [
              "<Figure size 432x288 with 1 Axes>"
            ],
            "image/png": "[encoded data removed]"
          },
          "metadata": {
            "needs_background": "light"
          }
        }
      ]
    },
    {
      "cell_type": "markdown",
      "source": [
        "That's it, no more outliers! Let's compute some additional variables, namely the year of the trip, and its duration."
      ],
      "metadata": {
        "id": "dKf1bcBYKqG6"
      }
    },
    {
      "cell_type": "code",
      "source": [
        "#Let's convert the payment_type into dummies variables, and compute the duration of the trip.\n",
        "df[\"pickup_datetime\"] = pd.to_datetime(df[\"pickup_datetime\"]) #Converting the date into datetime type\n",
        "df[\"dropoff_datetime\"] = pd.to_datetime(df[\"dropoff_datetime\"])\n",
        "df[\"year\"] = df[\"pickup_datetime\"].dt.year #Let's extract the year as well. \n",
        "df[\"duration\"] = (df['dropoff_datetime']-df['pickup_datetime']).dt.total_seconds()/60 #Compute the duration"
      ],
      "metadata": {
        "id": "W9pdiZPd55nu"
      },
      "execution_count": 35,
      "outputs": []
    },
    {
      "cell_type": "markdown",
      "source": [
        "Let's create the final dataframe"
      ],
      "metadata": {
        "id": "gTNv7w8wLg7L"
      }
    },
    {
      "cell_type": "code",
      "source": [
        "df_final = df.copy()\n",
        "print(df_final.describe())\n",
        "df_final.head()"
      ],
      "metadata": {
        "colab": {
          "base_uri": "https://localhost:8080/",
          "height": 1000
        },
        "id": "XZUsd8aw7Q01",
        "outputId": "8a8c9af9-19d7-4297-a417-9982ef83753e"
      },
      "execution_count": 36,
      "outputs": [
        {
          "output_type": "stream",
          "name": "stdout",
          "text": [
            "          vendor_id  passenger_count  trip_distance  pickup_longitude  \\\n",
            "count  45974.000000     45974.000000   45974.000000      34198.000000   \n",
            "mean       1.497390         1.263627      13.787091        -73.955714   \n",
            "std        0.499999         0.535451       3.882510          0.052924   \n",
            "min        1.000000         0.000000       2.076054        -74.018105   \n",
            "25%        1.000000         1.000000      11.072290        -73.992676   \n",
            "50%        1.000000         1.000000      13.566774        -73.980347   \n",
            "75%        2.000000         1.000000      16.254379        -73.885345   \n",
            "max        2.000000         3.000000      26.441530        -73.711197   \n",
            "\n",
            "       pickup_latitude  rate_code  dropoff_longitude  dropoff_latitude  \\\n",
            "count     34198.000000    34648.0       34198.000000      34198.000000   \n",
            "mean         40.752322        1.0         -73.952703         40.744090   \n",
            "std           0.023873        0.0           0.042894          0.057378   \n",
            "min          40.666691        1.0         -74.071228         40.574837   \n",
            "25%          40.735311        1.0         -73.984039         40.702798   \n",
            "50%          40.757084        1.0         -73.959999         40.750080   \n",
            "75%          40.770210        1.0         -73.932322         40.774531   \n",
            "max          40.831902        1.0         -73.832764         40.894424   \n",
            "\n",
            "       payment_type   fare_amount         extra  mta_tax    tip_amount  \\\n",
            "count       45974.0  45974.000000  45974.000000  45974.0  45974.000000   \n",
            "mean            1.0     29.079752      0.637665      0.5      6.406772   \n",
            "std             0.0      5.727764      0.223366      0.0      2.015875   \n",
            "min             1.0     22.000000      0.010000      0.5      0.560000   \n",
            "25%             1.0     24.500000      0.500000      0.5      5.060000   \n",
            "50%             1.0     27.500000      0.500000      0.5      6.200000   \n",
            "75%             1.0     32.500000      1.000000      0.5      7.660000   \n",
            "max             1.0     49.500000      1.000000      0.5     12.580000   \n",
            "\n",
            "       tolls_amount  imp_surcharge  total_amount          year      duration  \n",
            "count  45974.000000   4.597400e+04  45974.000000  45974.000000  45974.000000  \n",
            "mean       1.592635   3.000000e-01     38.519561   2015.520838     31.299498  \n",
            "std        2.502517   2.191604e-13      8.331852      0.499571     45.939792  \n",
            "min        0.000000   3.000000e-01     24.000000   2015.000000    -41.016667  \n",
            "25%        0.000000   3.000000e-01     31.550000   2015.000000     22.850000  \n",
            "50%        0.000000   3.000000e-01     36.960000   2016.000000     28.283333  \n",
            "75%        5.540000   3.000000e-01     44.150000   2016.000000     35.100000  \n",
            "max       13.540000   3.000000e-01     68.880000   2016.000000   1439.533333  \n"
          ]
        },
        {
          "output_type": "execute_result",
          "data": {
            "text/plain": [
              "    vendor_id     pickup_datetime    dropoff_datetime  passenger_count  \\\n",
              "5           1 2015-11-15 21:30:58 2015-11-15 21:55:47                1   \n",
              "6           2 2015-01-08 19:28:42 2015-01-08 19:46:40                1   \n",
              "11          2 2015-08-15 00:53:16 2015-08-15 01:09:09                1   \n",
              "12          1 2015-05-17 00:10:38 2015-05-17 00:45:43                2   \n",
              "13          2 2015-05-26 16:42:18 2015-05-26 17:17:21                1   \n",
              "\n",
              "    trip_distance  pickup_longitude  pickup_latitude  rate_code  \\\n",
              "5       24.301102        -73.874443        40.773983        1.0   \n",
              "6       13.615054        -73.862740        40.769081        NaN   \n",
              "11      12.810382        -73.956306        40.707939        1.0   \n",
              "12      14.966904        -73.980515        40.676228        NaN   \n",
              "13       9.269824        -73.991913        40.745750        NaN   \n",
              "\n",
              "   store_and_fwd_flag  dropoff_longitude  ...  payment_type  fare_amount  \\\n",
              "5                   N         -74.017311  ...             1         42.0   \n",
              "6                   N         -73.952225  ...             1         25.5   \n",
              "11                  N         -73.967697  ...             1         23.5   \n",
              "12                  N         -73.950478  ...             1         32.0   \n",
              "13                  N         -73.963730  ...             1         25.5   \n",
              "\n",
              "    extra  mta_tax  tip_amount  tolls_amount  imp_surcharge  total_amount  \\\n",
              "5     0.5      0.5        9.76          5.54            0.3         58.60   \n",
              "6     1.0      0.5        6.37          5.33            0.3         39.00   \n",
              "11    0.5      0.5        4.96          0.00            0.3         29.76   \n",
              "12    0.5      0.5        6.65          0.00            0.3         39.95   \n",
              "13    1.0      0.5        5.46          0.00            0.3         32.76   \n",
              "\n",
              "    year   duration  \n",
              "5   2015  24.816667  \n",
              "6   2015  17.966667  \n",
              "11  2015  15.883333  \n",
              "12  2015  35.083333  \n",
              "13  2015  35.050000  \n",
              "\n",
              "[5 rows x 21 columns]"
            ],
            "text/html": [
              "\n",
              "  <div id=\"df-9b11387e-6576-4d74-85a0-1fab5e5305ac\">\n",
              "    <div class=\"colab-df-container\">\n",
              "      <div>\n",
              "<style scoped>\n",
              "    .dataframe tbody tr th:only-of-type {\n",
              "        vertical-align: middle;\n",
              "    }\n",
              "\n",
              "    .dataframe tbody tr th {\n",
              "        vertical-align: top;\n",
              "    }\n",
              "\n",
              "    .dataframe thead th {\n",
              "        text-align: right;\n",
              "    }\n",
              "</style>\n",
              "<table border=\"1\" class=\"dataframe\">\n",
              "  <thead>\n",
              "    <tr style=\"text-align: right;\">\n",
              "      <th></th>\n",
              "      <th>vendor_id</th>\n",
              "      <th>pickup_datetime</th>\n",
              "      <th>dropoff_datetime</th>\n",
              "      <th>passenger_count</th>\n",
              "      <th>trip_distance</th>\n",
              "      <th>pickup_longitude</th>\n",
              "      <th>pickup_latitude</th>\n",
              "      <th>rate_code</th>\n",
              "      <th>store_and_fwd_flag</th>\n",
              "      <th>dropoff_longitude</th>\n",
              "      <th>...</th>\n",
              "      <th>payment_type</th>\n",
              "      <th>fare_amount</th>\n",
              "      <th>extra</th>\n",
              "      <th>mta_tax</th>\n",
              "      <th>tip_amount</th>\n",
              "      <th>tolls_amount</th>\n",
              "      <th>imp_surcharge</th>\n",
              "      <th>total_amount</th>\n",
              "      <th>year</th>\n",
              "      <th>duration</th>\n",
              "    </tr>\n",
              "  </thead>\n",
              "  <tbody>\n",
              "    <tr>\n",
              "      <th>5</th>\n",
              "      <td>1</td>\n",
              "      <td>2015-11-15 21:30:58</td>\n",
              "      <td>2015-11-15 21:55:47</td>\n",
              "      <td>1</td>\n",
              "      <td>24.301102</td>\n",
              "      <td>-73.874443</td>\n",
              "      <td>40.773983</td>\n",
              "      <td>1.0</td>\n",
              "      <td>N</td>\n",
              "      <td>-74.017311</td>\n",
              "      <td>...</td>\n",
              "      <td>1</td>\n",
              "      <td>42.0</td>\n",
              "      <td>0.5</td>\n",
              "      <td>0.5</td>\n",
              "      <td>9.76</td>\n",
              "      <td>5.54</td>\n",
              "      <td>0.3</td>\n",
              "      <td>58.60</td>\n",
              "      <td>2015</td>\n",
              "      <td>24.816667</td>\n",
              "    </tr>\n",
              "    <tr>\n",
              "      <th>6</th>\n",
              "      <td>2</td>\n",
              "      <td>2015-01-08 19:28:42</td>\n",
              "      <td>2015-01-08 19:46:40</td>\n",
              "      <td>1</td>\n",
              "      <td>13.615054</td>\n",
              "      <td>-73.862740</td>\n",
              "      <td>40.769081</td>\n",
              "      <td>NaN</td>\n",
              "      <td>N</td>\n",
              "      <td>-73.952225</td>\n",
              "      <td>...</td>\n",
              "      <td>1</td>\n",
              "      <td>25.5</td>\n",
              "      <td>1.0</td>\n",
              "      <td>0.5</td>\n",
              "      <td>6.37</td>\n",
              "      <td>5.33</td>\n",
              "      <td>0.3</td>\n",
              "      <td>39.00</td>\n",
              "      <td>2015</td>\n",
              "      <td>17.966667</td>\n",
              "    </tr>\n",
              "    <tr>\n",
              "      <th>11</th>\n",
              "      <td>2</td>\n",
              "      <td>2015-08-15 00:53:16</td>\n",
              "      <td>2015-08-15 01:09:09</td>\n",
              "      <td>1</td>\n",
              "      <td>12.810382</td>\n",
              "      <td>-73.956306</td>\n",
              "      <td>40.707939</td>\n",
              "      <td>1.0</td>\n",
              "      <td>N</td>\n",
              "      <td>-73.967697</td>\n",
              "      <td>...</td>\n",
              "      <td>1</td>\n",
              "      <td>23.5</td>\n",
              "      <td>0.5</td>\n",
              "      <td>0.5</td>\n",
              "      <td>4.96</td>\n",
              "      <td>0.00</td>\n",
              "      <td>0.3</td>\n",
              "      <td>29.76</td>\n",
              "      <td>2015</td>\n",
              "      <td>15.883333</td>\n",
              "    </tr>\n",
              "    <tr>\n",
              "      <th>12</th>\n",
              "      <td>1</td>\n",
              "      <td>2015-05-17 00:10:38</td>\n",
              "      <td>2015-05-17 00:45:43</td>\n",
              "      <td>2</td>\n",
              "      <td>14.966904</td>\n",
              "      <td>-73.980515</td>\n",
              "      <td>40.676228</td>\n",
              "      <td>NaN</td>\n",
              "      <td>N</td>\n",
              "      <td>-73.950478</td>\n",
              "      <td>...</td>\n",
              "      <td>1</td>\n",
              "      <td>32.0</td>\n",
              "      <td>0.5</td>\n",
              "      <td>0.5</td>\n",
              "      <td>6.65</td>\n",
              "      <td>0.00</td>\n",
              "      <td>0.3</td>\n",
              "      <td>39.95</td>\n",
              "      <td>2015</td>\n",
              "      <td>35.083333</td>\n",
              "    </tr>\n",
              "    <tr>\n",
              "      <th>13</th>\n",
              "      <td>2</td>\n",
              "      <td>2015-05-26 16:42:18</td>\n",
              "      <td>2015-05-26 17:17:21</td>\n",
              "      <td>1</td>\n",
              "      <td>9.269824</td>\n",
              "      <td>-73.991913</td>\n",
              "      <td>40.745750</td>\n",
              "      <td>NaN</td>\n",
              "      <td>N</td>\n",
              "      <td>-73.963730</td>\n",
              "      <td>...</td>\n",
              "      <td>1</td>\n",
              "      <td>25.5</td>\n",
              "      <td>1.0</td>\n",
              "      <td>0.5</td>\n",
              "      <td>5.46</td>\n",
              "      <td>0.00</td>\n",
              "      <td>0.3</td>\n",
              "      <td>32.76</td>\n",
              "      <td>2015</td>\n",
              "      <td>35.050000</td>\n",
              "    </tr>\n",
              "  </tbody>\n",
              "</table>\n",
              "<p>5 rows × 21 columns</p>\n",
              "</div>\n",
              "      <button class=\"colab-df-convert\" onclick=\"convertToInteractive('df-9b11387e-6576-4d74-85a0-1fab5e5305ac')\"\n",
              "              title=\"Convert this dataframe to an interactive table.\"\n",
              "              style=\"display:none;\">\n",
              "        \n",
              "  <svg xmlns=\"http://www.w3.org/2000/svg\" height=\"24px\"viewBox=\"0 0 24 24\"\n",
              "       width=\"24px\">\n",
              "    <path d=\"M0 0h24v24H0V0z\" fill=\"none\"/>\n",
              "    <path d=\"M18.56 5.44l.94 2.06.94-2.06 2.06-.94-2.06-.94-.94-2.06-.94 2.06-2.06.94zm-11 1L8.5 8.5l.94-2.06 2.06-.94-2.06-.94L8.5 2.5l-.94 2.06-2.06.94zm10 10l.94 2.06.94-2.06 2.06-.94-2.06-.94-.94-2.06-.94 2.06-2.06.94z\"/><path d=\"M17.41 7.96l-1.37-1.37c-.4-.4-.92-.59-1.43-.59-.52 0-1.04.2-1.43.59L10.3 9.45l-7.72 7.72c-.78.78-.78 2.05 0 2.83L4 21.41c.39.39.9.59 1.41.59.51 0 1.02-.2 1.41-.59l7.78-7.78 2.81-2.81c.8-.78.8-2.07 0-2.86zM5.41 20L4 18.59l7.72-7.72 1.47 1.35L5.41 20z\"/>\n",
              "  </svg>\n",
              "      </button>\n",
              "      \n",
              "  <style>\n",
              "    .colab-df-container {\n",
              "      display:flex;\n",
              "      flex-wrap:wrap;\n",
              "      gap: 12px;\n",
              "    }\n",
              "\n",
              "    .colab-df-convert {\n",
              "      background-color: #E8F0FE;\n",
              "      border: none;\n",
              "      border-radius: 50%;\n",
              "      cursor: pointer;\n",
              "      display: none;\n",
              "      fill: #1967D2;\n",
              "      height: 32px;\n",
              "      padding: 0 0 0 0;\n",
              "      width: 32px;\n",
              "    }\n",
              "\n",
              "    .colab-df-convert:hover {\n",
              "      background-color: #E2EBFA;\n",
              "      box-shadow: 0px 1px 2px rgba(60, 64, 67, 0.3), 0px 1px 3px 1px rgba(60, 64, 67, 0.15);\n",
              "      fill: #174EA6;\n",
              "    }\n",
              "\n",
              "    [theme=dark] .colab-df-convert {\n",
              "      background-color: #3B4455;\n",
              "      fill: #D2E3FC;\n",
              "    }\n",
              "\n",
              "    [theme=dark] .colab-df-convert:hover {\n",
              "      background-color: #434B5C;\n",
              "      box-shadow: 0px 1px 3px 1px rgba(0, 0, 0, 0.15);\n",
              "      filter: drop-shadow(0px 1px 2px rgba(0, 0, 0, 0.3));\n",
              "      fill: #FFFFFF;\n",
              "    }\n",
              "  </style>\n",
              "\n",
              "      <script>\n",
              "        const buttonEl =\n",
              "          document.querySelector('#df-9b11387e-6576-4d74-85a0-1fab5e5305ac button.colab-df-convert');\n",
              "        buttonEl.style.display =\n",
              "          google.colab.kernel.accessAllowed ? 'block' : 'none';\n",
              "\n",
              "        async function convertToInteractive(key) {\n",
              "          const element = document.querySelector('#df-9b11387e-6576-4d74-85a0-1fab5e5305ac');\n",
              "          const dataTable =\n",
              "            await google.colab.kernel.invokeFunction('convertToInteractive',\n",
              "                                                     [key], {});\n",
              "          if (!dataTable) return;\n",
              "\n",
              "          const docLinkHtml = 'Like what you see? Visit the ' +\n",
              "            '<a target=\"_blank\" href=https://colab.research.google.com/notebooks/data_table.ipynb>data table notebook</a>'\n",
              "            + ' to learn more about interactive tables.';\n",
              "          element.innerHTML = '';\n",
              "          dataTable['output_type'] = 'display_data';\n",
              "          await google.colab.output.renderOutput(dataTable, element);\n",
              "          const docLink = document.createElement('div');\n",
              "          docLink.innerHTML = docLinkHtml;\n",
              "          element.appendChild(docLink);\n",
              "        }\n",
              "      </script>\n",
              "    </div>\n",
              "  </div>\n",
              "  "
            ]
          },
          "metadata": {},
          "execution_count": 36
        }
      ]
    },
    {
      "cell_type": "markdown",
      "source": [
        "Hmmm. Apparently, some variables are almost constant... Let's check this out."
      ],
      "metadata": {
        "id": "yak8sBLbM0QZ"
      }
    },
    {
      "cell_type": "code",
      "source": [
        "df_final.hist(column=[\"extra\", \"imp_surcharge\", \"tolls_amount\", \"mta_tax\"])\n",
        "get_constant_features(df_final) "
      ],
      "metadata": {
        "colab": {
          "base_uri": "https://localhost:8080/",
          "height": 439
        },
        "id": "A8QrSLdV872N",
        "outputId": "28def40d-d3a4-4d79-fcc0-16648ae6595e"
      },
      "execution_count": 37,
      "outputs": [
        {
          "output_type": "execute_result",
          "data": {
            "text/plain": [
              "             Desc                 Var Value        Perc\n",
              "0        Constant        payment_type     1  100.000000\n",
              "1        Constant             mta_tax   0.5  100.000000\n",
              "2        Constant       imp_surcharge   0.3  100.000000\n",
              "3  Quasi Constant  store_and_fwd_flag     N   99.049463"
            ],
            "text/html": [
              "\n",
              "  <div id=\"df-a4ecb30c-77b4-468b-98be-8d2d7c43640c\">\n",
              "    <div class=\"colab-df-container\">\n",
              "      <div>\n",
              "<style scoped>\n",
              "    .dataframe tbody tr th:only-of-type {\n",
              "        vertical-align: middle;\n",
              "    }\n",
              "\n",
              "    .dataframe tbody tr th {\n",
              "        vertical-align: top;\n",
              "    }\n",
              "\n",
              "    .dataframe thead th {\n",
              "        text-align: right;\n",
              "    }\n",
              "</style>\n",
              "<table border=\"1\" class=\"dataframe\">\n",
              "  <thead>\n",
              "    <tr style=\"text-align: right;\">\n",
              "      <th></th>\n",
              "      <th>Desc</th>\n",
              "      <th>Var</th>\n",
              "      <th>Value</th>\n",
              "      <th>Perc</th>\n",
              "    </tr>\n",
              "  </thead>\n",
              "  <tbody>\n",
              "    <tr>\n",
              "      <th>0</th>\n",
              "      <td>Constant</td>\n",
              "      <td>payment_type</td>\n",
              "      <td>1</td>\n",
              "      <td>100.000000</td>\n",
              "    </tr>\n",
              "    <tr>\n",
              "      <th>1</th>\n",
              "      <td>Constant</td>\n",
              "      <td>mta_tax</td>\n",
              "      <td>0.5</td>\n",
              "      <td>100.000000</td>\n",
              "    </tr>\n",
              "    <tr>\n",
              "      <th>2</th>\n",
              "      <td>Constant</td>\n",
              "      <td>imp_surcharge</td>\n",
              "      <td>0.3</td>\n",
              "      <td>100.000000</td>\n",
              "    </tr>\n",
              "    <tr>\n",
              "      <th>3</th>\n",
              "      <td>Quasi Constant</td>\n",
              "      <td>store_and_fwd_flag</td>\n",
              "      <td>N</td>\n",
              "      <td>99.049463</td>\n",
              "    </tr>\n",
              "  </tbody>\n",
              "</table>\n",
              "</div>\n",
              "      <button class=\"colab-df-convert\" onclick=\"convertToInteractive('df-a4ecb30c-77b4-468b-98be-8d2d7c43640c')\"\n",
              "              title=\"Convert this dataframe to an interactive table.\"\n",
              "              style=\"display:none;\">\n",
              "        \n",
              "  <svg xmlns=\"http://www.w3.org/2000/svg\" height=\"24px\"viewBox=\"0 0 24 24\"\n",
              "       width=\"24px\">\n",
              "    <path d=\"M0 0h24v24H0V0z\" fill=\"none\"/>\n",
              "    <path d=\"M18.56 5.44l.94 2.06.94-2.06 2.06-.94-2.06-.94-.94-2.06-.94 2.06-2.06.94zm-11 1L8.5 8.5l.94-2.06 2.06-.94-2.06-.94L8.5 2.5l-.94 2.06-2.06.94zm10 10l.94 2.06.94-2.06 2.06-.94-2.06-.94-.94-2.06-.94 2.06-2.06.94z\"/><path d=\"M17.41 7.96l-1.37-1.37c-.4-.4-.92-.59-1.43-.59-.52 0-1.04.2-1.43.59L10.3 9.45l-7.72 7.72c-.78.78-.78 2.05 0 2.83L4 21.41c.39.39.9.59 1.41.59.51 0 1.02-.2 1.41-.59l7.78-7.78 2.81-2.81c.8-.78.8-2.07 0-2.86zM5.41 20L4 18.59l7.72-7.72 1.47 1.35L5.41 20z\"/>\n",
              "  </svg>\n",
              "      </button>\n",
              "      \n",
              "  <style>\n",
              "    .colab-df-container {\n",
              "      display:flex;\n",
              "      flex-wrap:wrap;\n",
              "      gap: 12px;\n",
              "    }\n",
              "\n",
              "    .colab-df-convert {\n",
              "      background-color: #E8F0FE;\n",
              "      border: none;\n",
              "      border-radius: 50%;\n",
              "      cursor: pointer;\n",
              "      display: none;\n",
              "      fill: #1967D2;\n",
              "      height: 32px;\n",
              "      padding: 0 0 0 0;\n",
              "      width: 32px;\n",
              "    }\n",
              "\n",
              "    .colab-df-convert:hover {\n",
              "      background-color: #E2EBFA;\n",
              "      box-shadow: 0px 1px 2px rgba(60, 64, 67, 0.3), 0px 1px 3px 1px rgba(60, 64, 67, 0.15);\n",
              "      fill: #174EA6;\n",
              "    }\n",
              "\n",
              "    [theme=dark] .colab-df-convert {\n",
              "      background-color: #3B4455;\n",
              "      fill: #D2E3FC;\n",
              "    }\n",
              "\n",
              "    [theme=dark] .colab-df-convert:hover {\n",
              "      background-color: #434B5C;\n",
              "      box-shadow: 0px 1px 3px 1px rgba(0, 0, 0, 0.15);\n",
              "      filter: drop-shadow(0px 1px 2px rgba(0, 0, 0, 0.3));\n",
              "      fill: #FFFFFF;\n",
              "    }\n",
              "  </style>\n",
              "\n",
              "      <script>\n",
              "        const buttonEl =\n",
              "          document.querySelector('#df-a4ecb30c-77b4-468b-98be-8d2d7c43640c button.colab-df-convert');\n",
              "        buttonEl.style.display =\n",
              "          google.colab.kernel.accessAllowed ? 'block' : 'none';\n",
              "\n",
              "        async function convertToInteractive(key) {\n",
              "          const element = document.querySelector('#df-a4ecb30c-77b4-468b-98be-8d2d7c43640c');\n",
              "          const dataTable =\n",
              "            await google.colab.kernel.invokeFunction('convertToInteractive',\n",
              "                                                     [key], {});\n",
              "          if (!dataTable) return;\n",
              "\n",
              "          const docLinkHtml = 'Like what you see? Visit the ' +\n",
              "            '<a target=\"_blank\" href=https://colab.research.google.com/notebooks/data_table.ipynb>data table notebook</a>'\n",
              "            + ' to learn more about interactive tables.';\n",
              "          element.innerHTML = '';\n",
              "          dataTable['output_type'] = 'display_data';\n",
              "          await google.colab.output.renderOutput(dataTable, element);\n",
              "          const docLink = document.createElement('div');\n",
              "          docLink.innerHTML = docLinkHtml;\n",
              "          element.appendChild(docLink);\n",
              "        }\n",
              "      </script>\n",
              "    </div>\n",
              "  </div>\n",
              "  "
            ]
          },
          "metadata": {},
          "execution_count": 37
        },
        {
          "output_type": "display_data",
          "data": {
            "text/plain": [
              "<Figure size 432x288 with 4 Axes>"
            ],
            "image/png": "[encoded data removed]"
          },
          "metadata": {
            "needs_background": "light"
          }
        }
      ]
    },
    {
      "cell_type": "markdown",
      "source": [
        "Indeed, constants! We'll not consider the mta_tax, payment_type and imp_surchage variables."
      ],
      "metadata": {
        "id": "L8gDFCQF6YYz"
      }
    },
    {
      "cell_type": "markdown",
      "source": [
        "# Model preparation"
      ],
      "metadata": {
        "id": "GpqddvQ1L4b1"
      }
    },
    {
      "cell_type": "code",
      "source": [
        "X = df_final[[\"trip_distance\", \"tip_amount\", \"passenger_count\", \"duration\", \"tolls_amount\", \"extra\"]]\n",
        "Y = df_final[[\"fare_amount\"]]\n",
        "\n",
        "vif_data = pd.DataFrame()\n",
        "vif_data[\"feature\"] = X.columns\n",
        "vif_data[\"VIF\"] = [variance_inflation_factor(X.values, i)\n",
        "                          for i in range(len(X.columns))]\n",
        "vif_data #We have a multicollinearity problem. Dang! Let's do the simple model, and then try to do some ridge regression to penalize less important features."
      ],
      "metadata": {
        "id": "cCQdSOjh4yW2",
        "colab": {
          "base_uri": "https://localhost:8080/",
          "height": 237
        },
        "outputId": "f813c488-fb57-4e52-a604-128c0f37637a"
      },
      "execution_count": 38,
      "outputs": [
        {
          "output_type": "execute_result",
          "data": {
            "text/plain": [
              "           feature        VIF\n",
              "0    trip_distance  14.919825\n",
              "1       tip_amount  16.893413\n",
              "2  passenger_count   5.383289\n",
              "3         duration   1.476626\n",
              "4     tolls_amount   1.667135\n",
              "5            extra   7.125002"
            ],
            "text/html": [
              "\n",
              "  <div id=\"df-c631a648-7626-4ef0-a02d-01b05a5245e4\">\n",
              "    <div class=\"colab-df-container\">\n",
              "      <div>\n",
              "<style scoped>\n",
              "    .dataframe tbody tr th:only-of-type {\n",
              "        vertical-align: middle;\n",
              "    }\n",
              "\n",
              "    .dataframe tbody tr th {\n",
              "        vertical-align: top;\n",
              "    }\n",
              "\n",
              "    .dataframe thead th {\n",
              "        text-align: right;\n",
              "    }\n",
              "</style>\n",
              "<table border=\"1\" class=\"dataframe\">\n",
              "  <thead>\n",
              "    <tr style=\"text-align: right;\">\n",
              "      <th></th>\n",
              "      <th>feature</th>\n",
              "      <th>VIF</th>\n",
              "    </tr>\n",
              "  </thead>\n",
              "  <tbody>\n",
              "    <tr>\n",
              "      <th>0</th>\n",
              "      <td>trip_distance</td>\n",
              "      <td>14.919825</td>\n",
              "    </tr>\n",
              "    <tr>\n",
              "      <th>1</th>\n",
              "      <td>tip_amount</td>\n",
              "      <td>16.893413</td>\n",
              "    </tr>\n",
              "    <tr>\n",
              "      <th>2</th>\n",
              "      <td>passenger_count</td>\n",
              "      <td>5.383289</td>\n",
              "    </tr>\n",
              "    <tr>\n",
              "      <th>3</th>\n",
              "      <td>duration</td>\n",
              "      <td>1.476626</td>\n",
              "    </tr>\n",
              "    <tr>\n",
              "      <th>4</th>\n",
              "      <td>tolls_amount</td>\n",
              "      <td>1.667135</td>\n",
              "    </tr>\n",
              "    <tr>\n",
              "      <th>5</th>\n",
              "      <td>extra</td>\n",
              "      <td>7.125002</td>\n",
              "    </tr>\n",
              "  </tbody>\n",
              "</table>\n",
              "</div>\n",
              "      <button class=\"colab-df-convert\" onclick=\"convertToInteractive('df-c631a648-7626-4ef0-a02d-01b05a5245e4')\"\n",
              "              title=\"Convert this dataframe to an interactive table.\"\n",
              "              style=\"display:none;\">\n",
              "        \n",
              "  <svg xmlns=\"http://www.w3.org/2000/svg\" height=\"24px\"viewBox=\"0 0 24 24\"\n",
              "       width=\"24px\">\n",
              "    <path d=\"M0 0h24v24H0V0z\" fill=\"none\"/>\n",
              "    <path d=\"M18.56 5.44l.94 2.06.94-2.06 2.06-.94-2.06-.94-.94-2.06-.94 2.06-2.06.94zm-11 1L8.5 8.5l.94-2.06 2.06-.94-2.06-.94L8.5 2.5l-.94 2.06-2.06.94zm10 10l.94 2.06.94-2.06 2.06-.94-2.06-.94-.94-2.06-.94 2.06-2.06.94z\"/><path d=\"M17.41 7.96l-1.37-1.37c-.4-.4-.92-.59-1.43-.59-.52 0-1.04.2-1.43.59L10.3 9.45l-7.72 7.72c-.78.78-.78 2.05 0 2.83L4 21.41c.39.39.9.59 1.41.59.51 0 1.02-.2 1.41-.59l7.78-7.78 2.81-2.81c.8-.78.8-2.07 0-2.86zM5.41 20L4 18.59l7.72-7.72 1.47 1.35L5.41 20z\"/>\n",
              "  </svg>\n",
              "      </button>\n",
              "      \n",
              "  <style>\n",
              "    .colab-df-container {\n",
              "      display:flex;\n",
              "      flex-wrap:wrap;\n",
              "      gap: 12px;\n",
              "    }\n",
              "\n",
              "    .colab-df-convert {\n",
              "      background-color: #E8F0FE;\n",
              "      border: none;\n",
              "      border-radius: 50%;\n",
              "      cursor: pointer;\n",
              "      display: none;\n",
              "      fill: #1967D2;\n",
              "      height: 32px;\n",
              "      padding: 0 0 0 0;\n",
              "      width: 32px;\n",
              "    }\n",
              "\n",
              "    .colab-df-convert:hover {\n",
              "      background-color: #E2EBFA;\n",
              "      box-shadow: 0px 1px 2px rgba(60, 64, 67, 0.3), 0px 1px 3px 1px rgba(60, 64, 67, 0.15);\n",
              "      fill: #174EA6;\n",
              "    }\n",
              "\n",
              "    [theme=dark] .colab-df-convert {\n",
              "      background-color: #3B4455;\n",
              "      fill: #D2E3FC;\n",
              "    }\n",
              "\n",
              "    [theme=dark] .colab-df-convert:hover {\n",
              "      background-color: #434B5C;\n",
              "      box-shadow: 0px 1px 3px 1px rgba(0, 0, 0, 0.15);\n",
              "      filter: drop-shadow(0px 1px 2px rgba(0, 0, 0, 0.3));\n",
              "      fill: #FFFFFF;\n",
              "    }\n",
              "  </style>\n",
              "\n",
              "      <script>\n",
              "        const buttonEl =\n",
              "          document.querySelector('#df-c631a648-7626-4ef0-a02d-01b05a5245e4 button.colab-df-convert');\n",
              "        buttonEl.style.display =\n",
              "          google.colab.kernel.accessAllowed ? 'block' : 'none';\n",
              "\n",
              "        async function convertToInteractive(key) {\n",
              "          const element = document.querySelector('#df-c631a648-7626-4ef0-a02d-01b05a5245e4');\n",
              "          const dataTable =\n",
              "            await google.colab.kernel.invokeFunction('convertToInteractive',\n",
              "                                                     [key], {});\n",
              "          if (!dataTable) return;\n",
              "\n",
              "          const docLinkHtml = 'Like what you see? Visit the ' +\n",
              "            '<a target=\"_blank\" href=https://colab.research.google.com/notebooks/data_table.ipynb>data table notebook</a>'\n",
              "            + ' to learn more about interactive tables.';\n",
              "          element.innerHTML = '';\n",
              "          dataTable['output_type'] = 'display_data';\n",
              "          await google.colab.output.renderOutput(dataTable, element);\n",
              "          const docLink = document.createElement('div');\n",
              "          docLink.innerHTML = docLinkHtml;\n",
              "          element.appendChild(docLink);\n",
              "        }\n",
              "      </script>\n",
              "    </div>\n",
              "  </div>\n",
              "  "
            ]
          },
          "metadata": {},
          "execution_count": 38
        }
      ]
    },
    {
      "cell_type": "code",
      "source": [
        "X_train,X_test, Y_train, Y_test = train_test_split(X, Y,  test_size=0.33, random_state=1962)\n",
        "sc = StandardScaler()\n",
        "X_train = sc.fit_transform(X_train) #Standardize data\n",
        "X_test = sc.transform(X_test)"
      ],
      "metadata": {
        "id": "GTjAoCxoMr6a"
      },
      "execution_count": 78,
      "outputs": []
    },
    {
      "cell_type": "code",
      "source": [
        "reg = LinearRegression().fit(X_train, Y_train)\n",
        "Y_pred = reg.predict(X_test)\n",
        "print(\"RMSE %.5f\" % mean_squared_error(Y_test, Y_pred))\n",
        "print(\"R²: %.5f\" % r2_score(Y_test, Y_pred))\n",
        "Adj_r2 = 1 - (1-r2_score(Y_test, Y_pred)) * (len(Y)-1)/(len(Y)-X.shape[1]-1) #*\n",
        "print(\"Adjusted R²: %.5f\" % Adj_r2)"
      ],
      "metadata": {
        "colab": {
          "base_uri": "https://localhost:8080/"
        },
        "id": "hXLMbisYCljt",
        "outputId": "ccbe16fa-d401-497d-8351-ac2d365f5808"
      },
      "execution_count": 79,
      "outputs": [
        {
          "output_type": "stream",
          "name": "stdout",
          "text": [
            "RMSE 8.23280\n",
            "R²: 0.75180\n",
            "Adjusted R²: 0.75176\n"
          ]
        }
      ]
    },
    {
      "cell_type": "code",
      "source": [
        "rdgr = Ridge(alpha=100)\n",
        "reg_rdgr = rdgr.fit(X_train, Y_train)\n",
        "Y_pred2 = reg_rdgr.predict(X_test)\n",
        "print(\"RMSE %.5f\" % mean_squared_error(Y_test, Y_pred2))\n",
        "print(\"R²: %.5f\" % r2_score(Y_test, Y_pred2))\n",
        "Adj_r2 = 1 - (1-r2_score(Y_test, Y_pred2)) * (len(Y)-1)/(len(Y)-X.shape[1]-1) \n",
        "print(\"Adjusted R²: %.5f\" % Adj_r2)"
      ],
      "metadata": {
        "colab": {
          "base_uri": "https://localhost:8080/"
        },
        "id": "L3VyOKu_d2Ck",
        "outputId": "0ee72695-4273-4951-80de-e126ab07afcc"
      },
      "execution_count": 80,
      "outputs": [
        {
          "output_type": "stream",
          "name": "stdout",
          "text": [
            "RMSE 8.23267\n",
            "R²: 0.75180\n",
            "Adjusted R²: 0.75177\n"
          ]
        }
      ]
    },
    {
      "cell_type": "markdown",
      "source": [
        "Ridge"
      ],
      "metadata": {
        "id": "VDoelnf2RhCF"
      }
    },
    {
      "cell_type": "code",
      "source": [
        "cv = RepeatedKFold(n_splits=10, n_repeats=5, random_state=1962)\n",
        "model = RidgeCV(alphas=np.arange(0, 1, 0.01), cv=cv, scoring='neg_mean_absolute_error')# perform the search\n",
        "results = model.fit(X_train, Y_train)\n",
        "# summarize\n",
        "print('MAE: %.5f' % results.best_score_)\n",
        "print('Best alpha: %.5f' % model.alpha_)"
      ],
      "metadata": {
        "colab": {
          "base_uri": "https://localhost:8080/"
        },
        "id": "xUA2oKclTQzL",
        "outputId": "46a18963-fafc-4aa4-f080-10bdada141e1"
      },
      "execution_count": 52,
      "outputs": [
        {
          "output_type": "stream",
          "name": "stdout",
          "text": [
            "MAE: -2.12292\n",
            "Best alpha: 0.00000\n"
          ]
        }
      ]
    },
    {
      "cell_type": "code",
      "source": [
        "# Optimization ###\n",
        "params = {'n_estimators': 1000, 'max_depth': 5, 'min_samples_split': 2, 'learning_rate': 0.01, 'loss': 'ls'}\n",
        "gbr = ensemble.GradientBoostingRegressor(**params)\n",
        "gbr.fit(X_train, Y_train)\n",
        "Y_pred3 = gbr.predict(X_test)\n",
        "print(\"RMSE %.5f\" % mean_squared_error(Y_test, Y_pred3))\n",
        "print(\"R²: %.5f\" % r2_score(Y_test, Y_pred3))\n",
        "Adj_r2 = 1 - (1-r2_score(Y_test, Y_pred3)) * (len(Y)-1)/(len(Y)-X.shape[1]-1) #A RECHECK !!!\n",
        "print(\"Adjusted R²: %.5f\" % Adj_r2) #Same R²..."
      ],
      "metadata": {
        "colab": {
          "base_uri": "https://localhost:8080/"
        },
        "id": "wkgjo6j7C6XT",
        "outputId": "27843823-88d9-44d4-dba4-4ecd355510f3"
      },
      "execution_count": 52,
      "outputs": [
        {
          "output_type": "stream",
          "name": "stdout",
          "text": [
            "RMSE 0.63690\n",
            "R²: 0.98080\n",
            "Adjusted R²: 0.98080\n"
          ]
        }
      ]
    },
    {
      "cell_type": "code",
      "source": [
        "yo1 = Y_test.copy()\n",
        "yo1[\"pred\"] = list(Y_pred.ravel())\n",
        "\n",
        "yo = Y_test.copy()\n",
        "yo[\"pred\"] = list(Y_pred3.ravel())\n",
        "Fig,Ax = plt.subplots(ncols=2, figsize=(15,5), sharex=True, sharey=True)\n",
        "sns.regplot(x=yo1[\"fare_amount\"], y=yo1[\"pred\"], ax=Ax[0])\n",
        "sns.regplot(x=yo[\"fare_amount\"], y=yo[\"pred\"], ax=Ax[1])\n",
        "plt.show()"
      ],
      "metadata": {
        "colab": {
          "base_uri": "https://localhost:8080/",
          "height": 335
        },
        "id": "vU9_NO7k8IEY",
        "outputId": "16bcb78b-d6e5-414f-928d-da1ed4e78409"
      },
      "execution_count": 84,
      "outputs": [
        {
          "output_type": "display_data",
          "data": {
            "text/plain": [
              "<Figure size 1080x360 with 2 Axes>"
            ],
            "image/png": "[encoded data removed]"
          },
          "metadata": {
            "needs_background": "light"
          }
        }
      ]
    },
    {
      "cell_type": "markdown",
      "source": [
        "TO DO: Add boroughs and see if there is any effects of particular areas..."
      ],
      "metadata": {
        "id": "leGkyYQyHPK2"
      }
    },
    {
      "cell_type": "code",
      "source": [
        "import folium\n",
        "from folium import plugins\n",
        "m = folium.Map([40.773983, -73.874443, ], zoom_start=10.5)\n",
        "\"\"\"\n",
        "for index, row in df.iterrows():\n",
        "    folium.CircleMarker([row['pickup_latitude'], row['pickup_longitude']],\n",
        "                        radius=1,\n",
        "                       ).add_to(m)\n",
        "\"\"\"\n",
        "stationArr = df[['pickup_latitude', 'pickup_longitude']].values\n",
        "\n",
        "# plot heatmap\n",
        "m.add_children(plugins.HeatMap(stationArr, radius=15))\n",
        "m"
      ],
      "metadata": {
        "id": "D2aGBJ87w8AR"
      },
      "execution_count": null,
      "outputs": []
    },
    {
      "cell_type": "markdown",
      "source": [
        ""
      ],
      "metadata": {
        "id": "p-uhqO1Kw5ij"
      }
    },
    {
      "cell_type": "code",
      "source": [
        "n = folium.Map([40.773983, -73.874443, ], zoom_start=10.5)\n",
        "\"\"\"\n",
        "for index, row in df.iterrows():\n",
        "    folium.CircleMarker([row['pickup_latitude'], row['pickup_longitude']],\n",
        "                        radius=1,\n",
        "                       ).add_to(m)\n",
        "\"\"\"\n",
        "stationArr = df[['dropoff_latitude', 'dropoff_longitude']].values\n",
        "\n",
        "# plot heatmap\n",
        "n.add_children(plugins.HeatMap(stationArr, radius=15))\n",
        "n"
      ],
      "metadata": {
        "id": "-aS01MTqxhes"
      },
      "execution_count": null,
      "outputs": []
    },
    {
      "cell_type": "code",
      "source": [
        "https://rstudio-pubs-static.s3.amazonaws.com/414401_4e3c51fe17bc4a8f839824b88dee2e6b.html \n",
        "https://medium.com/@saidakbarp/interactive-map-visualization-with-folium-in-python-2e95544d8d9b"
      ],
      "metadata": {
        "id": "_R3O-suG0z8F"
      },
      "execution_count": null,
      "outputs": []
    }
  ]
}